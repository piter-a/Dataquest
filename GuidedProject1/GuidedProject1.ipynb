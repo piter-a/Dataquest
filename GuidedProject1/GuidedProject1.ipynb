{
 "cells": [
  {
   "cell_type": "markdown",
   "id": "431242ef",
   "metadata": {},
   "source": [
    "# Profitable apps\n",
    "\n",
    "The company only builds apps that are free to download and install, and the main source of revenue consists of in-app ads. This means that the revenue for any given app is mostly influenced by the number of users that use the app.\n",
    "\n",
    "The aim of this project is to find out what type of apps is most profitable in the App Store and Google Play"
   ]
  },
  {
   "cell_type": "code",
   "execution_count": 1,
   "id": "b7c50ea7",
   "metadata": {},
   "outputs": [],
   "source": [
    "from csv import reader\n",
    "\n",
    "# Reading in apple store data and splitting them into the header\n",
    "# and the actual data\n",
    "ios_open = open('AppleStore.csv', encoding='utf8')\n",
    "ios_read = reader(ios_open)\n",
    "ios_data = list(ios_read)\n",
    "ios_header = ios_data[0]\n",
    "ios_data = ios_data[1:]\n",
    "\n",
    "# Reading in play store data and splitting them into the header\n",
    "# and the actual data\n",
    "google_open = open('googleplaystore.csv', encoding='utf8')\n",
    "google_read = reader(google_open)\n",
    "google_data = list(google_read)\n",
    "google_header = google_data[0]\n",
    "google_data = google_data[1:]"
   ]
  },
  {
   "cell_type": "code",
   "execution_count": 2,
   "id": "b67c42a6",
   "metadata": {},
   "outputs": [],
   "source": [
    "# A function to explore the datasets, takes in 4 arguments:\n",
    "# dataset --> the dataset you want to explore\n",
    "# start --> index from which you want to start\n",
    "# end --> index at which you want to end\n",
    "# rows_and_columns --> if false, don't print the number of\n",
    "# rows and columns in the dataset, if true, print number of\n",
    "# rows and columns in the dataset\n",
    "# Loops through the dataset and prints out rows of the dataset\n",
    "# froom starting index to end index\n",
    "def explore_data(dataset, start, end, rows_and_columns = False):\n",
    "    dataset_slice = dataset[start:end]\n",
    "    \n",
    "    for i in range(len(dataset_slice)):\n",
    "        print(dataset_slice[i])\n",
    "        print('\\n')\n",
    "    \n",
    "    if rows_and_columns:\n",
    "        print(f'Number of rows: {len(dataset)}')\n",
    "        print(f'Number of columns: {len(dataset[0])}')"
   ]
  },
  {
   "cell_type": "code",
   "execution_count": 3,
   "id": "21c1ac30",
   "metadata": {},
   "outputs": [
    {
     "name": "stdout",
     "output_type": "stream",
     "text": [
      "['App', 'Category', 'Rating', 'Reviews', 'Size', 'Installs', 'Type', 'Price', 'Content Rating', 'Genres', 'Last Updated', 'Current Ver', 'Android Ver']\n",
      "\n",
      "\n",
      "['Photo Editor & Candy Camera & Grid & ScrapBook', 'ART_AND_DESIGN', '4.1', '159', '19M', '10,000+', 'Free', '0', 'Everyone', 'Art & Design', 'January 7, 2018', '1.0.0', '4.0.3 and up']\n",
      "\n",
      "\n",
      "['Coloring book moana', 'ART_AND_DESIGN', '3.9', '967', '14M', '500,000+', 'Free', '0', 'Everyone', 'Art & Design;Pretend Play', 'January 15, 2018', '2.0.0', '4.0.3 and up']\n",
      "\n",
      "\n",
      "['U Launcher Lite – FREE Live Cool Themes, Hide Apps', 'ART_AND_DESIGN', '4.7', '87510', '8.7M', '5,000,000+', 'Free', '0', 'Everyone', 'Art & Design', 'August 1, 2018', '1.2.4', '4.0.3 and up']\n",
      "\n",
      "\n",
      "Number of rows: 10841\n",
      "Number of columns: 13\n"
     ]
    }
   ],
   "source": [
    "# Exploring google data\n",
    "print(google_header)\n",
    "print('\\n')\n",
    "explore_data(google_data, 0, 3, True)"
   ]
  },
  {
   "cell_type": "code",
   "execution_count": 4,
   "id": "82ea706e",
   "metadata": {},
   "outputs": [
    {
     "name": "stdout",
     "output_type": "stream",
     "text": [
      "['id', 'track_name', 'size_bytes', 'currency', 'price', 'rating_count_tot', 'rating_count_ver', 'user_rating', 'user_rating_ver', 'ver', 'cont_rating', 'prime_genre', 'sup_devices.num', 'ipadSc_urls.num', 'lang.num', 'vpp_lic']\n",
      "\n",
      "\n",
      "['284882215', 'Facebook', '389879808', 'USD', '0.0', '2974676', '212', '3.5', '3.5', '95.0', '4+', 'Social Networking', '37', '1', '29', '1']\n",
      "\n",
      "\n",
      "['389801252', 'Instagram', '113954816', 'USD', '0.0', '2161558', '1289', '4.5', '4.0', '10.23', '12+', 'Photo & Video', '37', '0', '29', '1']\n",
      "\n",
      "\n",
      "['529479190', 'Clash of Clans', '116476928', 'USD', '0.0', '2130805', '579', '4.5', '4.5', '9.24.12', '9+', 'Games', '38', '5', '18', '1']\n",
      "\n",
      "\n",
      "Number of rows: 7197\n",
      "Number of columns: 16\n"
     ]
    }
   ],
   "source": [
    "# Exploring ios data\n",
    "print(ios_header)\n",
    "print('\\n')\n",
    "explore_data(ios_data, 0, 3, True)"
   ]
  },
  {
   "cell_type": "code",
   "execution_count": 5,
   "id": "1a80645c",
   "metadata": {
    "scrolled": true
   },
   "outputs": [
    {
     "name": "stdout",
     "output_type": "stream",
     "text": [
      "[['Life Made WI-Fi Touchscreen Photo Frame', '1.9', '19', '3.0M', '1,000+', 'Free', '0', 'Everyone', '', 'February 11, 2018', '1.0.19', '4.0 and up'], ['osmino Wi-Fi: free WiFi', 'TOOLS', '4.2', '134203', '4.1M', '10,000,000+', 'Free', '0', 'Everyone', 'Tools', 'August 7, 2018', '6.06.14', '4.4 and up'], ['Sat-Fi Voice', 'COMMUNICATION', '3.4', '37', '14M', '1,000+', 'Free', '0', 'Everyone', 'Communication', 'November 21, 2014', '2.2.1.5', '2.2 and up']]\n",
      "\n",
      "\n",
      "['App', 'Category', 'Rating', 'Reviews', 'Size', 'Installs', 'Type', 'Price', 'Content Rating', 'Genres', 'Last Updated', 'Current Ver', 'Android Ver']\n"
     ]
    }
   ],
   "source": [
    "# Google_data dataset has a value larger than 5 \n",
    "# in rating column therefore we have to remove that row\n",
    "print(google_data[10472:10475])\n",
    "print('\\n')\n",
    "print(google_header)"
   ]
  },
  {
   "cell_type": "code",
   "execution_count": 6,
   "id": "9db6ae70",
   "metadata": {
    "scrolled": true
   },
   "outputs": [
    {
     "name": "stdout",
     "output_type": "stream",
     "text": [
      "10840\n"
     ]
    }
   ],
   "source": [
    "# Deleting the row with the wrong value as it\n",
    "# will skew the data analysis down the line\n",
    "del(google_data[10472])\n",
    "print(len(google_data))"
   ]
  },
  {
   "cell_type": "markdown",
   "id": "99dd9212",
   "metadata": {},
   "source": [
    "## Cleaning up the Data in the next few cells"
   ]
  },
  {
   "cell_type": "code",
   "execution_count": 7,
   "id": "58c7141a",
   "metadata": {},
   "outputs": [
    {
     "name": "stdout",
     "output_type": "stream",
     "text": [
      "Number of duplicate google play apps: 1181\n",
      "\n",
      "Number of unique google play apps: 9659\n",
      "\n",
      "Number of entries duplicate + unique apps: 10840\n"
     ]
    }
   ],
   "source": [
    "# Function to find duplicate app names in the dataset\n",
    "# Could be done by hard coding as only the google dataset \n",
    "# has duplicate app names, however for the purpose of \n",
    "# reusability I've decided to make it into a function.\n",
    "# This function can be used with any dataset that has the app\n",
    "# name in the first column\n",
    "def duplicate_unique(dataset):\n",
    "    duplicate_apps = []\n",
    "    unique_apps = []\n",
    "    \n",
    "    for i in range(len(dataset)):\n",
    "        if dataset[i][0] in unique_apps:\n",
    "            duplicate_apps.append(dataset[i][0])\n",
    "        else:\n",
    "            unique_apps.append(dataset[i][0])\n",
    "    return duplicate_apps, unique_apps\n",
    "\n",
    "google_duplicate = duplicate_unique(google_data)[0]\n",
    "google_unique = duplicate_unique(google_data)[1]\n",
    "\n",
    "print(f'Number of duplicate google play apps: {len(google_duplicate)}')\n",
    "print(f'\\nNumber of unique google play apps: {len(google_unique)}')\n",
    "\n",
    "# Checking number of entries in unique + duplicate to confirm that\n",
    "# it's the same length as the entire dataset\n",
    "print(f'\\nNumber of entries duplicate + unique apps: {len(google_unique) + len(google_duplicate)}')"
   ]
  },
  {
   "cell_type": "code",
   "execution_count": 8,
   "id": "56f353cd",
   "metadata": {},
   "outputs": [
    {
     "name": "stdout",
     "output_type": "stream",
     "text": [
      "9659\n"
     ]
    }
   ],
   "source": [
    "# Finding the number of apps that occur more than once\n",
    "# in the google dataset\n",
    "# reviews_max creates a dictionary which contains\n",
    "# the apps with highest number of reviews \n",
    "# key = app name, value = highest number of reviews \n",
    "# for that app\n",
    "reviews_max = {}\n",
    "\n",
    "for i in range(len(google_data)):\n",
    "    app_name = google_data[i][0]\n",
    "    n_reviews = float(google_data[i][3])\n",
    "\n",
    "    if app_name in reviews_max and reviews_max[app_name] < n_reviews:\n",
    "        reviews_max[app_name] = n_reviews\n",
    "    elif app_name not in reviews_max:\n",
    "        reviews_max[app_name] = n_reviews\n",
    "                  \n",
    "print(len(reviews_max))"
   ]
  },
  {
   "cell_type": "code",
   "execution_count": 9,
   "id": "b7359ad8",
   "metadata": {
    "scrolled": true
   },
   "outputs": [
    {
     "name": "stdout",
     "output_type": "stream",
     "text": [
      "['Photo Editor & Candy Camera & Grid & ScrapBook', 'ART_AND_DESIGN', '4.1', '159', '19M', '10,000+', 'Free', '0', 'Everyone', 'Art & Design', 'January 7, 2018', '1.0.0', '4.0.3 and up']\n",
      "\n",
      "\n",
      "['U Launcher Lite – FREE Live Cool Themes, Hide Apps', 'ART_AND_DESIGN', '4.7', '87510', '8.7M', '5,000,000+', 'Free', '0', 'Everyone', 'Art & Design', 'August 1, 2018', '1.2.4', '4.0.3 and up']\n",
      "\n",
      "\n",
      "['Sketch - Draw & Paint', 'ART_AND_DESIGN', '4.5', '215644', '25M', '50,000,000+', 'Free', '0', 'Teen', 'Art & Design', 'June 8, 2018', 'Varies with device', '4.2 and up']\n",
      "\n",
      "\n",
      "Number of rows: 9659\n",
      "Number of columns: 13\n"
     ]
    }
   ],
   "source": [
    "# initialize two lists, google_clean will hold the cleaned up\n",
    "# google data and already_added will hold the apps that have\n",
    "# already been added to the google_clean list\n",
    "google_clean = []\n",
    "already_added = []\n",
    "\n",
    "# looping through the original google dataset\n",
    "# the row from google_data is added to google clean if\n",
    "# the number of reviews corresponds to the app with \n",
    "# highest number of reviews and it has not been already\n",
    "# added to the google_clean list\n",
    "for i in range(len(google_data)):\n",
    "    app_name = google_data[i][0]\n",
    "    n_reviews = float(google_data[i][3])\n",
    "    \n",
    "    if (n_reviews == reviews_max[app_name]) and (app_name not in already_added):\n",
    "        google_clean.append(google_data[i])\n",
    "        already_added.append(app_name)\n",
    "        \n",
    "explore_data(google_clean, 0, 3, True)"
   ]
  },
  {
   "cell_type": "code",
   "execution_count": 10,
   "id": "d1995752",
   "metadata": {},
   "outputs": [],
   "source": [
    "# this function checks if the name of the app\n",
    "# is english since we only want to analyze \n",
    "# english apps, it takes a string as an input and\n",
    "# then loops over that string, if the string has \n",
    "# more than 3 non-ASCII characters it returns False\n",
    "# else it returns True\n",
    "def is_english(string):\n",
    "    non_english = 0\n",
    "    \n",
    "    for i in range(len(string)):\n",
    "        if ord(string[i]) > 127:\n",
    "            non_english += 1\n",
    "            \n",
    "    if non_english > 3:\n",
    "            return False\n",
    "    else:\n",
    "        return True\n",
    "\n",
    "# Testing if the function works as intended\n",
    "# is_english('Instagram')\n",
    "# is_english('爱奇艺PPS -《欢乐颂2》电视剧热播')\n",
    "# is_english('Docs To Go™ Free Office Suite')\n",
    "# is_english('Instachat 😜')"
   ]
  },
  {
   "cell_type": "code",
   "execution_count": 11,
   "id": "f68509c9",
   "metadata": {
    "scrolled": true
   },
   "outputs": [
    {
     "name": "stdout",
     "output_type": "stream",
     "text": [
      "['Photo Editor & Candy Camera & Grid & ScrapBook', 'ART_AND_DESIGN', '4.1', '159', '19M', '10,000+', 'Free', '0', 'Everyone', 'Art & Design', 'January 7, 2018', '1.0.0', '4.0.3 and up']\n",
      "\n",
      "\n",
      "['U Launcher Lite – FREE Live Cool Themes, Hide Apps', 'ART_AND_DESIGN', '4.7', '87510', '8.7M', '5,000,000+', 'Free', '0', 'Everyone', 'Art & Design', 'August 1, 2018', '1.2.4', '4.0.3 and up']\n",
      "\n",
      "\n",
      "['Sketch - Draw & Paint', 'ART_AND_DESIGN', '4.5', '215644', '25M', '50,000,000+', 'Free', '0', 'Teen', 'Art & Design', 'June 8, 2018', 'Varies with device', '4.2 and up']\n",
      "\n",
      "\n",
      "Number of rows: 9614\n",
      "Number of columns: 13\n",
      "\n",
      "\n",
      "['284882215', 'Facebook', '389879808', 'USD', '0.0', '2974676', '212', '3.5', '3.5', '95.0', '4+', 'Social Networking', '37', '1', '29', '1']\n",
      "\n",
      "\n",
      "['389801252', 'Instagram', '113954816', 'USD', '0.0', '2161558', '1289', '4.5', '4.0', '10.23', '12+', 'Photo & Video', '37', '0', '29', '1']\n",
      "\n",
      "\n",
      "['529479190', 'Clash of Clans', '116476928', 'USD', '0.0', '2130805', '579', '4.5', '4.5', '9.24.12', '9+', 'Games', '38', '5', '18', '1']\n",
      "\n",
      "\n",
      "Number of rows: 6183\n",
      "Number of columns: 16\n"
     ]
    }
   ],
   "source": [
    "# Function to remove non-enlgish apps from the \n",
    "# google dataset, it takes a dataset as an input\n",
    "# and then loops over the dataset checking \n",
    "# for english app names in every row using \n",
    "# the is_english functions\n",
    "def english_apps_google(dataset):\n",
    "    english_apps = []\n",
    "    \n",
    "    for i in range(len(dataset)):\n",
    "        if is_english(dataset[i][0]):\n",
    "            english_apps.append(dataset[i])\n",
    "            \n",
    "    return english_apps\n",
    "\n",
    "# Does the same as above function but for ios dataset\n",
    "def english_apps_ios(dataset):\n",
    "    english_apps = []\n",
    "    \n",
    "    for i in range(len(dataset)):\n",
    "        if is_english(dataset[i][1]):\n",
    "            english_apps.append(dataset[i])\n",
    "            \n",
    "    return english_apps\n",
    "\n",
    "google_english = english_apps_google(google_clean)\n",
    "ios_english = english_apps_ios(ios_data)\n",
    "\n",
    "explore_data(google_english, 0, 3, True)\n",
    "print('\\n')\n",
    "explore_data(ios_english, 0, 3, True)"
   ]
  },
  {
   "cell_type": "code",
   "execution_count": 12,
   "id": "ed0a0376",
   "metadata": {
    "scrolled": true
   },
   "outputs": [
    {
     "name": "stdout",
     "output_type": "stream",
     "text": [
      "8864\n",
      "3222\n"
     ]
    }
   ],
   "source": [
    "# A function to isolate free apps, loops over\n",
    "# the google dataset and if the price of the app\n",
    "# is equal to zero, then that app is appended to \n",
    "# a new list\n",
    "def free_google_apps(dataset):\n",
    "    free_google = []\n",
    "    \n",
    "    for i in range(len(dataset)):\n",
    "        if dataset[i][7] == '0':\n",
    "            free_google.append(dataset[i])\n",
    "            \n",
    "    return free_google\n",
    "\n",
    "# Performs the same action as function above but\n",
    "# for the ios dataset\n",
    "def free_ios_apps(dataset):\n",
    "    free_ios = []\n",
    "    \n",
    "    for i in range(len(dataset)):\n",
    "        if dataset[i][4] == '0.0':\n",
    "            free_ios.append(dataset[i])\n",
    "            \n",
    "    return free_ios\n",
    "\n",
    "# Final datasets that we'll be working with\n",
    "google_final_data = free_google_apps(google_english)\n",
    "ios_final_data = free_ios_apps(ios_english)\n",
    "\n",
    "print(len(google_final_data))\n",
    "print(len(ios_final_data))"
   ]
  },
  {
   "cell_type": "code",
   "execution_count": 13,
   "id": "9d8a8f03",
   "metadata": {},
   "outputs": [],
   "source": [
    "# This function generates a frequency table which\n",
    "# first builds a frequency table of app genre and\n",
    "# then converts it to percentages\n",
    "# Shows how many percent of app store a genre takes up\n",
    "def freq_table(dataset, index):\n",
    "    frequency_table = {}\n",
    "    percentage_table = {}\n",
    "    total_entries = 0\n",
    "    \n",
    "    for i in range(len(dataset)):\n",
    "        total_entries += 1\n",
    "        if dataset[i][index] in frequency_table:\n",
    "            frequency_table[dataset[i][index]] += 1\n",
    "        else:\n",
    "            frequency_table[dataset[i][index]] = 1\n",
    "    \n",
    "    for key in frequency_table:\n",
    "        percentage = (frequency_table[key] / total_entries) * 100\n",
    "        percentage_table[key] = percentage\n",
    "    \n",
    "    return percentage_table\n",
    "\n",
    "# This is a function which was provided as a part\n",
    "# of the dataquest guided project to display the \n",
    "# percentage table in a descending order however,\n",
    "# i tried to rewrite it in 'my way'. It converts\n",
    "# the key value pairs into tuples and then appends\n",
    "# these values to a new table, it then displays the \n",
    "# percentage table in a sorted descending order\n",
    "def display_table(dataset, index):\n",
    "    table = freq_table(dataset, index)\n",
    "    table_display = []\n",
    "\n",
    "    for i in table:\n",
    "        key_val_as_tuple = (table[i], i)\n",
    "        table_display.append(key_val_as_tuple)\n",
    "        \n",
    "    sorted_table = sorted(table_display, reverse = True)\n",
    "    \n",
    "    for i in range(len(sorted_table)):\n",
    "        print(f'{sorted_table[i][1]} : {sorted_table[i][0]}')\n",
    "    \n"
   ]
  },
  {
   "cell_type": "code",
   "execution_count": 25,
   "id": "237714f5",
   "metadata": {},
   "outputs": [
    {
     "name": "stdout",
     "output_type": "stream",
     "text": [
      "FAMILY : 18.907942238267147\n",
      "GAME : 9.724729241877256\n",
      "TOOLS : 8.461191335740072\n",
      "BUSINESS : 4.591606498194946\n",
      "LIFESTYLE : 3.9034296028880866\n",
      "PRODUCTIVITY : 3.892148014440433\n",
      "FINANCE : 3.7003610108303246\n",
      "MEDICAL : 3.531137184115524\n",
      "SPORTS : 3.395758122743682\n",
      "PERSONALIZATION : 3.3167870036101084\n",
      "COMMUNICATION : 3.2378158844765346\n",
      "HEALTH_AND_FITNESS : 3.0798736462093865\n",
      "PHOTOGRAPHY : 2.944494584837545\n",
      "NEWS_AND_MAGAZINES : 2.7978339350180503\n",
      "SOCIAL : 2.6624548736462095\n",
      "TRAVEL_AND_LOCAL : 2.33528880866426\n",
      "SHOPPING : 2.2450361010830324\n",
      "BOOKS_AND_REFERENCE : 2.1435018050541514\n",
      "DATING : 1.861462093862816\n",
      "VIDEO_PLAYERS : 1.7937725631768955\n",
      "MAPS_AND_NAVIGATION : 1.3989169675090252\n",
      "FOOD_AND_DRINK : 1.2409747292418771\n",
      "EDUCATION : 1.1620036101083033\n",
      "ENTERTAINMENT : 0.9589350180505415\n",
      "LIBRARIES_AND_DEMO : 0.9363718411552346\n",
      "AUTO_AND_VEHICLES : 0.9250902527075812\n",
      "HOUSE_AND_HOME : 0.8235559566787004\n",
      "WEATHER : 0.8009927797833934\n",
      "EVENTS : 0.7107400722021661\n",
      "PARENTING : 0.6543321299638989\n",
      "ART_AND_DESIGN : 0.6430505415162455\n",
      "COMICS : 0.6204873646209386\n",
      "BEAUTY : 0.5979241877256317\n"
     ]
    }
   ],
   "source": [
    "display_table(google_final_data, 1)"
   ]
  },
  {
   "cell_type": "code",
   "execution_count": 26,
   "id": "9ca7625f",
   "metadata": {},
   "outputs": [
    {
     "name": "stdout",
     "output_type": "stream",
     "text": [
      "Tools : 8.449909747292418\n",
      "Entertainment : 6.069494584837545\n",
      "Education : 5.347472924187725\n",
      "Business : 4.591606498194946\n",
      "Productivity : 3.892148014440433\n",
      "Lifestyle : 3.892148014440433\n",
      "Finance : 3.7003610108303246\n",
      "Medical : 3.531137184115524\n",
      "Sports : 3.463447653429603\n",
      "Personalization : 3.3167870036101084\n",
      "Communication : 3.2378158844765346\n",
      "Action : 3.1024368231046933\n",
      "Health & Fitness : 3.0798736462093865\n",
      "Photography : 2.944494584837545\n",
      "News & Magazines : 2.7978339350180503\n",
      "Social : 2.6624548736462095\n",
      "Travel & Local : 2.3240072202166067\n",
      "Shopping : 2.2450361010830324\n",
      "Books & Reference : 2.1435018050541514\n",
      "Simulation : 2.0419675090252705\n",
      "Dating : 1.861462093862816\n",
      "Arcade : 1.8501805054151623\n",
      "Video Players & Editors : 1.7712093862815883\n",
      "Casual : 1.7599277978339352\n",
      "Maps & Navigation : 1.3989169675090252\n",
      "Food & Drink : 1.2409747292418771\n",
      "Puzzle : 1.128158844765343\n",
      "Racing : 0.9927797833935018\n",
      "Role Playing : 0.9363718411552346\n",
      "Libraries & Demo : 0.9363718411552346\n",
      "Auto & Vehicles : 0.9250902527075812\n",
      "Strategy : 0.9138086642599278\n",
      "House & Home : 0.8235559566787004\n",
      "Weather : 0.8009927797833934\n",
      "Events : 0.7107400722021661\n",
      "Adventure : 0.6768953068592057\n",
      "Comics : 0.6092057761732852\n",
      "Beauty : 0.5979241877256317\n",
      "Art & Design : 0.5979241877256317\n",
      "Parenting : 0.4963898916967509\n",
      "Card : 0.45126353790613716\n",
      "Casino : 0.42870036101083037\n",
      "Trivia : 0.41741877256317694\n",
      "Educational;Education : 0.39485559566787\n",
      "Board : 0.3835740072202166\n",
      "Educational : 0.3722924187725632\n",
      "Education;Education : 0.33844765342960287\n",
      "Word : 0.2594765342960289\n",
      "Casual;Pretend Play : 0.236913357400722\n",
      "Music : 0.2030685920577617\n",
      "Racing;Action & Adventure : 0.16922382671480143\n",
      "Puzzle;Brain Games : 0.16922382671480143\n",
      "Entertainment;Music & Video : 0.16922382671480143\n",
      "Casual;Brain Games : 0.13537906137184114\n",
      "Casual;Action & Adventure : 0.13537906137184114\n",
      "Arcade;Action & Adventure : 0.12409747292418773\n",
      "Action;Action & Adventure : 0.10153429602888085\n",
      "Educational;Pretend Play : 0.09025270758122744\n",
      "Simulation;Action & Adventure : 0.078971119133574\n",
      "Parenting;Education : 0.078971119133574\n",
      "Entertainment;Brain Games : 0.078971119133574\n",
      "Board;Brain Games : 0.078971119133574\n",
      "Parenting;Music & Video : 0.06768953068592057\n",
      "Educational;Brain Games : 0.06768953068592057\n",
      "Casual;Creativity : 0.06768953068592057\n",
      "Art & Design;Creativity : 0.06768953068592057\n",
      "Education;Pretend Play : 0.056407942238267145\n",
      "Role Playing;Pretend Play : 0.04512635379061372\n",
      "Education;Creativity : 0.04512635379061372\n",
      "Role Playing;Action & Adventure : 0.033844765342960284\n",
      "Puzzle;Action & Adventure : 0.033844765342960284\n",
      "Entertainment;Creativity : 0.033844765342960284\n",
      "Entertainment;Action & Adventure : 0.033844765342960284\n",
      "Educational;Creativity : 0.033844765342960284\n",
      "Educational;Action & Adventure : 0.033844765342960284\n",
      "Education;Music & Video : 0.033844765342960284\n",
      "Education;Brain Games : 0.033844765342960284\n",
      "Education;Action & Adventure : 0.033844765342960284\n",
      "Adventure;Action & Adventure : 0.033844765342960284\n",
      "Video Players & Editors;Music & Video : 0.02256317689530686\n",
      "Sports;Action & Adventure : 0.02256317689530686\n",
      "Simulation;Pretend Play : 0.02256317689530686\n",
      "Puzzle;Creativity : 0.02256317689530686\n",
      "Music;Music & Video : 0.02256317689530686\n",
      "Entertainment;Pretend Play : 0.02256317689530686\n",
      "Casual;Education : 0.02256317689530686\n",
      "Board;Action & Adventure : 0.02256317689530686\n",
      "Video Players & Editors;Creativity : 0.01128158844765343\n",
      "Trivia;Education : 0.01128158844765343\n",
      "Travel & Local;Action & Adventure : 0.01128158844765343\n",
      "Tools;Education : 0.01128158844765343\n",
      "Strategy;Education : 0.01128158844765343\n",
      "Strategy;Creativity : 0.01128158844765343\n",
      "Strategy;Action & Adventure : 0.01128158844765343\n",
      "Simulation;Education : 0.01128158844765343\n",
      "Role Playing;Brain Games : 0.01128158844765343\n",
      "Racing;Pretend Play : 0.01128158844765343\n",
      "Puzzle;Education : 0.01128158844765343\n",
      "Parenting;Brain Games : 0.01128158844765343\n",
      "Music & Audio;Music & Video : 0.01128158844765343\n",
      "Lifestyle;Pretend Play : 0.01128158844765343\n",
      "Lifestyle;Education : 0.01128158844765343\n",
      "Health & Fitness;Education : 0.01128158844765343\n",
      "Health & Fitness;Action & Adventure : 0.01128158844765343\n",
      "Entertainment;Education : 0.01128158844765343\n",
      "Communication;Creativity : 0.01128158844765343\n",
      "Comics;Creativity : 0.01128158844765343\n",
      "Casual;Music & Video : 0.01128158844765343\n",
      "Card;Action & Adventure : 0.01128158844765343\n",
      "Books & Reference;Education : 0.01128158844765343\n",
      "Art & Design;Pretend Play : 0.01128158844765343\n",
      "Art & Design;Action & Adventure : 0.01128158844765343\n",
      "Arcade;Pretend Play : 0.01128158844765343\n",
      "Adventure;Education : 0.01128158844765343\n"
     ]
    }
   ],
   "source": [
    "display_table(google_final_data, 9)"
   ]
  },
  {
   "cell_type": "code",
   "execution_count": 29,
   "id": "02e97efa",
   "metadata": {
    "scrolled": true
   },
   "outputs": [
    {
     "name": "stdout",
     "output_type": "stream",
     "text": [
      "Games : 58.16263190564867\n",
      "Entertainment : 7.883302296710118\n",
      "Photo & Video : 4.9658597144630665\n",
      "Education : 3.662321539416512\n",
      "Social Networking : 3.2898820608317814\n",
      "Shopping : 2.60707635009311\n",
      "Utilities : 2.5139664804469275\n",
      "Sports : 2.1415270018621975\n",
      "Music : 2.0484171322160147\n",
      "Health & Fitness : 2.0173805090006205\n",
      "Productivity : 1.7380509000620732\n",
      "Lifestyle : 1.5828677839851024\n",
      "News : 1.3345747982619491\n",
      "Travel : 1.2414649286157666\n",
      "Finance : 1.1173184357541899\n",
      "Weather : 0.8690254500310366\n",
      "Food & Drink : 0.8069522036002483\n",
      "Reference : 0.5586592178770949\n",
      "Business : 0.5276225946617008\n",
      "Book : 0.4345127250155183\n",
      "Navigation : 0.186219739292365\n",
      "Medical : 0.186219739292365\n",
      "Catalogs : 0.12414649286157665\n"
     ]
    }
   ],
   "source": [
    "display_table(ios_final_data, 11)"
   ]
  },
  {
   "cell_type": "code",
   "execution_count": 33,
   "id": "39cc8b60",
   "metadata": {
    "scrolled": true
   },
   "outputs": [
    {
     "name": "stdout",
     "output_type": "stream",
     "text": [
      "Social Networking : 71548.34905660378\n",
      "Photo & Video : 28441.54375\n",
      "Games : 22788.6696905016\n",
      "Music : 57326.530303030304\n",
      "Reference : 74942.11111111111\n",
      "Health & Fitness : 23298.015384615384\n",
      "Weather : 52279.892857142855\n",
      "Utilities : 18684.456790123455\n",
      "Travel : 28243.8\n",
      "Shopping : 26919.690476190477\n",
      "News : 21248.023255813954\n",
      "Navigation : 86090.33333333333\n",
      "Lifestyle : 16485.764705882353\n",
      "Entertainment : 14029.830708661417\n",
      "Food & Drink : 33333.92307692308\n",
      "Sports : 23008.898550724636\n",
      "Book : 39758.5\n",
      "Finance : 31467.944444444445\n",
      "Education : 7003.983050847458\n",
      "Productivity : 21028.410714285714\n",
      "Business : 7491.117647058823\n",
      "Catalogs : 4004.0\n",
      "Medical : 612.0\n"
     ]
    }
   ],
   "source": [
    "ios_genres = freq_table(ios_final_data, 11)\n",
    "\n",
    "# Finding out the most popular genres in the \n",
    "# ios dataset, it does so by finding out the\n",
    "# average number of reviews for each genre\n",
    "for i in ios_genres:\n",
    "    total = 0\n",
    "    genre_num = 0\n",
    "    \n",
    "    for y in range(len(ios_final_data)):\n",
    "        if ios_final_data[y][11] == i:\n",
    "            total += float(ios_final_data[y][5])\n",
    "            genre_num += 1\n",
    "            \n",
    "    reviews_avg = total / genre_num\n",
    "    print(f'{i} : {reviews_avg}')"
   ]
  },
  {
   "cell_type": "markdown",
   "id": "1f685b03",
   "metadata": {},
   "source": [
    "## Printing out apps of most popular genres in the ios store"
   ]
  },
  {
   "cell_type": "code",
   "execution_count": 37,
   "id": "ab43cc7c",
   "metadata": {
    "scrolled": false
   },
   "outputs": [
    {
     "name": "stdout",
     "output_type": "stream",
     "text": [
      "Waze - GPS Navigation, Maps & Real-time Traffic : 345046\n",
      "Google Maps - Navigation & Transit : 154911\n",
      "Geocaching® : 12811\n",
      "CoPilot GPS – Car Navigation & Offline Maps : 3582\n",
      "ImmobilienScout24: Real Estate Search in Germany : 187\n",
      "Railway Route Search : 5\n"
     ]
    }
   ],
   "source": [
    "for i in range(len(ios_final_data)):\n",
    "    if ios_final_data[i][11] == 'Navigation':\n",
    "        print(f'{ios_final_data[i][1]} : {ios_final_data[i][5]}')"
   ]
  },
  {
   "cell_type": "code",
   "execution_count": 38,
   "id": "35b0fb5b",
   "metadata": {},
   "outputs": [
    {
     "name": "stdout",
     "output_type": "stream",
     "text": [
      "Bible : 985920\n",
      "Dictionary.com Dictionary & Thesaurus : 200047\n",
      "Dictionary.com Dictionary & Thesaurus for iPad : 54175\n",
      "Google Translate : 26786\n",
      "Muslim Pro: Ramadan 2017 Prayer Times, Azan, Quran : 18418\n",
      "New Furniture Mods - Pocket Wiki & Game Tools for Minecraft PC Edition : 17588\n",
      "Merriam-Webster Dictionary : 16849\n",
      "Night Sky : 12122\n",
      "City Maps for Minecraft PE - The Best Maps for Minecraft Pocket Edition (MCPE) : 8535\n",
      "LUCKY BLOCK MOD ™ for Minecraft PC Edition - The Best Pocket Wiki & Mods Installer Tools : 4693\n",
      "GUNS MODS for Minecraft PC Edition - Mods Tools : 1497\n",
      "Guides for Pokémon GO - Pokemon GO News and Cheats : 826\n",
      "WWDC : 762\n",
      "Horror Maps for Minecraft PE - Download The Scariest Maps for Minecraft Pocket Edition (MCPE) Free : 718\n",
      "VPN Express : 14\n",
      "Real Bike Traffic Rider Virtual Reality Glasses : 8\n",
      "教えて!goo : 0\n",
      "Jishokun-Japanese English Dictionary & Translator : 0\n"
     ]
    }
   ],
   "source": [
    "for i in range(len(ios_final_data)):\n",
    "    if ios_final_data[i][11] == 'Reference':\n",
    "        print(f'{ios_final_data[i][1]} : {ios_final_data[i][5]}')"
   ]
  },
  {
   "cell_type": "code",
   "execution_count": 36,
   "id": "ac32639f",
   "metadata": {
    "scrolled": true
   },
   "outputs": [
    {
     "name": "stdout",
     "output_type": "stream",
     "text": [
      "ART_AND_DESIGN : 1986335.0877192982\n",
      "AUTO_AND_VEHICLES : 647317.8170731707\n",
      "BEAUTY : 513151.88679245283\n",
      "BOOKS_AND_REFERENCE : 8767811.894736841\n",
      "BUSINESS : 1712290.1474201474\n",
      "COMICS : 817657.2727272727\n",
      "COMMUNICATION : 38456119.167247385\n",
      "DATING : 854028.8303030303\n",
      "EDUCATION : 1833495.145631068\n",
      "ENTERTAINMENT : 11640705.88235294\n",
      "EVENTS : 253542.22222222222\n",
      "FINANCE : 1387692.475609756\n",
      "FOOD_AND_DRINK : 1924897.7363636363\n",
      "HEALTH_AND_FITNESS : 4188821.9853479853\n",
      "HOUSE_AND_HOME : 1331540.5616438356\n",
      "LIBRARIES_AND_DEMO : 638503.734939759\n",
      "LIFESTYLE : 1437816.2687861272\n",
      "GAME : 15588015.603248259\n",
      "FAMILY : 3695641.8198090694\n",
      "MEDICAL : 120550.61980830671\n",
      "SOCIAL : 23253652.127118643\n",
      "SHOPPING : 7036877.311557789\n",
      "PHOTOGRAPHY : 17840110.40229885\n",
      "SPORTS : 3638640.1428571427\n",
      "TRAVEL_AND_LOCAL : 13984077.710144928\n",
      "TOOLS : 10801391.298666667\n",
      "PERSONALIZATION : 5201482.6122448975\n",
      "PRODUCTIVITY : 16787331.344927534\n",
      "PARENTING : 542603.6206896552\n",
      "WEATHER : 5074486.197183099\n",
      "VIDEO_PLAYERS : 24727872.452830188\n",
      "NEWS_AND_MAGAZINES : 9549178.467741935\n",
      "MAPS_AND_NAVIGATION : 4056941.7741935486\n"
     ]
    }
   ],
   "source": [
    "google_category = freq_table(google_final_data, 1)\n",
    "\n",
    "# Finding out the most popular genres in the \n",
    "# google dataset, it is done by finding out the\n",
    "# average number of installs for each genre\n",
    "for i in google_category:\n",
    "    total = 0\n",
    "    category_num = 0\n",
    "    \n",
    "    for y in range(len(google_final_data)):\n",
    "        if google_final_data[y][1] == i:\n",
    "            num_installs = google_final_data[y][5]\n",
    "            num_installs = num_installs.replace(',', '')\n",
    "            num_installs = num_installs.replace('+', '')\n",
    "            num_installs = float(num_installs)\n",
    "            total += num_installs\n",
    "            category_num += 1\n",
    "            \n",
    "    installs_avg = total / category_num\n",
    "    print(f'{i} : {installs_avg}')"
   ]
  },
  {
   "cell_type": "markdown",
   "id": "5ae23ebd",
   "metadata": {},
   "source": [
    "## Printing out apps of most popular genre in google store"
   ]
  },
  {
   "cell_type": "code",
   "execution_count": 42,
   "id": "3add9688",
   "metadata": {
    "scrolled": true
   },
   "outputs": [
    {
     "name": "stdout",
     "output_type": "stream",
     "text": [
      "WhatsApp Messenger : 1,000,000,000+\n",
      "imo beta free calls and text : 100,000,000+\n",
      "Android Messages : 100,000,000+\n",
      "Google Duo - High Quality Video Calls : 500,000,000+\n",
      "Messenger – Text and Video Chat for Free : 1,000,000,000+\n",
      "imo free video calls and chat : 500,000,000+\n",
      "Skype - free IM & video calls : 1,000,000,000+\n",
      "Who : 100,000,000+\n",
      "GO SMS Pro - Messenger, Free Themes, Emoji : 100,000,000+\n",
      "LINE: Free Calls & Messages : 500,000,000+\n",
      "Google Chrome: Fast & Secure : 1,000,000,000+\n",
      "Firefox Browser fast & private : 100,000,000+\n",
      "UC Browser - Fast Download Private & Secure : 500,000,000+\n",
      "Gmail : 1,000,000,000+\n",
      "Hangouts : 1,000,000,000+\n",
      "Messenger Lite: Free Calls & Messages : 100,000,000+\n",
      "Kik : 100,000,000+\n",
      "KakaoTalk: Free Calls & Text : 100,000,000+\n",
      "Opera Mini - fast web browser : 100,000,000+\n",
      "Opera Browser: Fast and Secure : 100,000,000+\n",
      "Telegram : 100,000,000+\n",
      "Truecaller: Caller ID, SMS spam blocking & Dialer : 100,000,000+\n",
      "UC Browser Mini -Tiny Fast Private & Secure : 100,000,000+\n",
      "Viber Messenger : 500,000,000+\n",
      "WeChat : 100,000,000+\n",
      "Yahoo Mail – Stay Organized : 100,000,000+\n",
      "BBM - Free Calls & Messages : 100,000,000+\n"
     ]
    }
   ],
   "source": [
    "for i in range(len(google_final_data)):\n",
    "    if google_final_data[i][1] == 'COMMUNICATION' and (google_final_data[i][5] == '1,000,000,000+'\n",
    "                                                      or google_final_data[i][5] == '500,000,000+'\n",
    "                                                      or google_final_data[i][5] == '100,000,000+'):\n",
    "        print(f'{google_final_data[i][0]} : {google_final_data[i][5]}')"
   ]
  },
  {
   "cell_type": "markdown",
   "id": "9a67352a",
   "metadata": {},
   "source": [
    "Based on the data we have extracted and analysed we could come up with an app that will make the most profit. For example we have noticed that navigation apps were most popular for ios store therefore we could make a navigation app and add some features included in other popular app genres in order to make the most profit."
   ]
  }
 ],
 "metadata": {
  "kernelspec": {
   "display_name": "Python 3",
   "language": "python",
   "name": "python3"
  },
  "language_info": {
   "codemirror_mode": {
    "name": "ipython",
    "version": 3
   },
   "file_extension": ".py",
   "mimetype": "text/x-python",
   "name": "python",
   "nbconvert_exporter": "python",
   "pygments_lexer": "ipython3",
   "version": "3.9.1"
  }
 },
 "nbformat": 4,
 "nbformat_minor": 5
}
