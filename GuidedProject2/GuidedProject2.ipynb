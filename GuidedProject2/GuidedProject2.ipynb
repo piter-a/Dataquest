{
 "cells": [
  {
   "cell_type": "markdown",
   "id": "611a270f",
   "metadata": {},
   "source": [
    "# Hacker News Guided Project"
   ]
  },
  {
   "cell_type": "code",
   "execution_count": 3,
   "id": "88b6e365",
   "metadata": {
    "scrolled": true
   },
   "outputs": [
    {
     "name": "stdout",
     "output_type": "stream",
     "text": [
      "[['id', 'title', 'url', 'num_points', 'num_comments', 'author', 'created_at'], ['12579008', 'You have two days to comment if you want stem cells to be classified as your own', 'http://www.regulations.gov/document?D=FDA-2015-D-3719-0018', '1', '0', 'altstar', '9/26/2016 3:26'], ['12579005', 'SQLAR  the SQLite Archiver', 'https://www.sqlite.org/sqlar/doc/trunk/README.md', '1', '0', 'blacksqr', '9/26/2016 3:24'], ['12578997', 'What if we just printed a flatscreen television on the side of our boxes?', 'https://medium.com/vanmoof/our-secrets-out-f21c1f03fdc8#.ietxmez43', '1', '0', 'pavel_lishin', '9/26/2016 3:19'], ['12578989', 'algorithmic music', 'http://cacm.acm.org/magazines/2011/7/109891-algorithmic-composition/fulltext', '1', '0', 'poindontcare', '9/26/2016 3:16']]\n"
     ]
    }
   ],
   "source": [
    "from csv import reader\n",
    "import datetime as dt\n",
    "\n",
    "open_file = open('HN_posts_year_to_Sep_26_2016.csv', encoding='utf-8')\n",
    "read_file = reader(open_file)\n",
    "hn = list(read_file)\n",
    "\n",
    "print(hn[:5])"
   ]
  },
  {
   "cell_type": "code",
   "execution_count": 4,
   "id": "24fdcfb8",
   "metadata": {
    "scrolled": true
   },
   "outputs": [
    {
     "name": "stdout",
     "output_type": "stream",
     "text": [
      "['id', 'title', 'url', 'num_points', 'num_comments', 'author', 'created_at']\n",
      "[['12579008', 'You have two days to comment if you want stem cells to be classified as your own', 'http://www.regulations.gov/document?D=FDA-2015-D-3719-0018', '1', '0', 'altstar', '9/26/2016 3:26'], ['12579005', 'SQLAR  the SQLite Archiver', 'https://www.sqlite.org/sqlar/doc/trunk/README.md', '1', '0', 'blacksqr', '9/26/2016 3:24'], ['12578997', 'What if we just printed a flatscreen television on the side of our boxes?', 'https://medium.com/vanmoof/our-secrets-out-f21c1f03fdc8#.ietxmez43', '1', '0', 'pavel_lishin', '9/26/2016 3:19'], ['12578989', 'algorithmic music', 'http://cacm.acm.org/magazines/2011/7/109891-algorithmic-composition/fulltext', '1', '0', 'poindontcare', '9/26/2016 3:16'], ['12578979', 'How the Data Vault Enables the Next-Gen Data Warehouse and Data Lake', 'https://www.talend.com/blog/2016/05/12/talend-and-Â\\x93the-data-vaultÂ\\x94', '1', '0', 'markgainor1', '9/26/2016 3:14']]\n"
     ]
    }
   ],
   "source": [
    "# Split dataset into header and the actual data so it's easier to work with\n",
    "headers = hn[0]\n",
    "hn = hn[1:]\n",
    "\n",
    "print(headers)\n",
    "print(hn[:5])"
   ]
  },
  {
   "cell_type": "code",
   "execution_count": 5,
   "id": "4a3469eb",
   "metadata": {
    "scrolled": true
   },
   "outputs": [
    {
     "name": "stdout",
     "output_type": "stream",
     "text": [
      "Number of ask posts:9139\n",
      "Number of show posts:10158\n",
      "Number of other posts:273822\n"
     ]
    }
   ],
   "source": [
    "# Finding the number of ask, show, and other posts\n",
    "ask_posts = []\n",
    "show_posts = []\n",
    "other_posts = []\n",
    "\n",
    "for i in range(len(hn)):\n",
    "    title = hn[i][1]\n",
    "    \n",
    "    if title.lower().startswith('ask hn'):\n",
    "        ask_posts.append(hn[i])\n",
    "    elif title.lower().startswith('show hn'):\n",
    "        show_posts.append(hn[i])\n",
    "    else:\n",
    "        other_posts.append(hn[i])\n",
    "        \n",
    "print(f'Number of ask posts:{len(ask_posts)}\\nNumber of show posts:{len(show_posts)}\\nNumber of other posts:{len(other_posts)}')"
   ]
  },
  {
   "cell_type": "code",
   "execution_count": 6,
   "id": "e514aa08",
   "metadata": {
    "scrolled": true
   },
   "outputs": [
    {
     "name": "stdout",
     "output_type": "stream",
     "text": [
      "10.39\n"
     ]
    }
   ],
   "source": [
    "# Finding the average number of comments on ask posts\n",
    "total_ask_comments = 0\n",
    "\n",
    "for i in range(len(ask_posts)):\n",
    "    num_comments = int(ask_posts[i][4])\n",
    "    total_ask_comments += num_comments\n",
    "\n",
    "avg_ask_comments = total_ask_comments/len(ask_posts)\n",
    "print(round(avg_ask_comments, 2))"
   ]
  },
  {
   "cell_type": "code",
   "execution_count": 7,
   "id": "608f985a",
   "metadata": {
    "scrolled": true
   },
   "outputs": [
    {
     "name": "stdout",
     "output_type": "stream",
     "text": [
      "4.89\n"
     ]
    }
   ],
   "source": [
    "# Finding the average number of comments on show posts\n",
    "total_show_comments = 0\n",
    "\n",
    "for i in range(len(show_posts)):\n",
    "    num_comments = int(show_posts[i][4])\n",
    "    total_show_comments += num_comments\n",
    "    \n",
    "avg_show_comments = total_show_comments/len(show_posts)\n",
    "print(round(avg_show_comments, 2))"
   ]
  },
  {
   "cell_type": "code",
   "execution_count": 8,
   "id": "fc11371b",
   "metadata": {},
   "outputs": [
    {
     "name": "stdout",
     "output_type": "stream",
     "text": [
      "[['9/26/2016 2:53', 7], ['9/26/2016 1:17', 3], ['9/25/2016 22:57', 0]]\n"
     ]
    }
   ],
   "source": [
    "# New list containing the number of comments made on given hour\n",
    "results_list = []\n",
    "\n",
    "for i in range(len(ask_posts)):\n",
    "    created_at = ask_posts[i][6]\n",
    "    num_comments = int(ask_posts[i][4])\n",
    "    results_list.append([created_at, num_comments])\n",
    "    \n",
    "print(results_list[:3])"
   ]
  },
  {
   "cell_type": "code",
   "execution_count": 9,
   "id": "42aaf83a",
   "metadata": {
    "scrolled": true
   },
   "outputs": [
    {
     "name": "stdout",
     "output_type": "stream",
     "text": [
      "Hour:00,Posts:301\n",
      "Hour:01,Posts:282\n",
      "Hour:02,Posts:269\n",
      "Hour:03,Posts:271\n",
      "Hour:04,Posts:243\n",
      "Hour:05,Posts:209\n",
      "Hour:06,Posts:234\n",
      "Hour:07,Posts:226\n",
      "Hour:08,Posts:257\n",
      "Hour:09,Posts:222\n",
      "Hour:10,Posts:282\n",
      "Hour:11,Posts:312\n",
      "Hour:12,Posts:342\n",
      "Hour:13,Posts:444\n",
      "Hour:14,Posts:513\n",
      "Hour:15,Posts:646\n",
      "Hour:16,Posts:579\n",
      "Hour:17,Posts:587\n",
      "Hour:18,Posts:614\n",
      "Hour:19,Posts:552\n",
      "Hour:20,Posts:510\n",
      "Hour:21,Posts:518\n",
      "Hour:22,Posts:383\n",
      "Hour:23,Posts:343\n"
     ]
    }
   ],
   "source": [
    "counts_by_hour = {} # Number of ask posts created at a given hour\n",
    "comments_by_hour = {} # Number of comments made under ask posts at a given hour\n",
    "\n",
    "for i in range(len(results_list)):\n",
    "    date = results_list[i][0]\n",
    "    num_comments = results_list[i][1]\n",
    "    date = dt.datetime.strptime(date, '%m/%d/%Y %H:%M')\n",
    "    hour = date.strftime('%H')\n",
    "    \n",
    "    if hour not in counts_by_hour:\n",
    "        counts_by_hour[hour] = 1\n",
    "        comments_by_hour[hour] = num_comments\n",
    "    else:\n",
    "        counts_by_hour[hour] += 1\n",
    "        comments_by_hour[hour] += num_comments\n",
    "        \n",
    "for hr in sorted(counts_by_hour):\n",
    "    print(f'Hour:{hr},Posts:{counts_by_hour[hr]}')"
   ]
  },
  {
   "cell_type": "code",
   "execution_count": 10,
   "id": "01b31fe3",
   "metadata": {
    "scrolled": true
   },
   "outputs": [
    {
     "name": "stdout",
     "output_type": "stream",
     "text": [
      "Hour:02, Average comments:11.14\n",
      "Hour:01, Average comments:7.41\n",
      "Hour:22, Average comments:8.8\n",
      "Hour:21, Average comments:8.69\n",
      "Hour:19, Average comments:7.16\n",
      "Hour:17, Average comments:9.45\n",
      "Hour:15, Average comments:28.68\n",
      "Hour:14, Average comments:9.69\n",
      "Hour:13, Average comments:16.32\n",
      "Hour:11, Average comments:8.96\n",
      "Hour:10, Average comments:10.68\n",
      "Hour:09, Average comments:6.65\n",
      "Hour:07, Average comments:7.01\n",
      "Hour:03, Average comments:7.95\n",
      "Hour:23, Average comments:6.7\n",
      "Hour:20, Average comments:8.75\n",
      "Hour:16, Average comments:7.71\n",
      "Hour:08, Average comments:9.19\n",
      "Hour:00, Average comments:7.56\n",
      "Hour:18, Average comments:7.94\n",
      "Hour:12, Average comments:12.38\n",
      "Hour:04, Average comments:9.71\n",
      "Hour:06, Average comments:6.78\n",
      "Hour:05, Average comments:8.79\n"
     ]
    }
   ],
   "source": [
    "# Finding average number of comments by hour\n",
    "avg_by_hour = []\n",
    "\n",
    "for hr in comments_by_hour:\n",
    "    avg_by_hour.append([hr, (comments_by_hour[hr]/counts_by_hour[hr])])\n",
    "   \n",
    "for i in range(len(avg_by_hour)):\n",
    "    print(f'Hour:{avg_by_hour[i][0]}, Average comments:{round(avg_by_hour[i][1], 2)}')"
   ]
  },
  {
   "cell_type": "code",
   "execution_count": 11,
   "id": "4aa5bf88",
   "metadata": {
    "scrolled": true
   },
   "outputs": [
    {
     "name": "stdout",
     "output_type": "stream",
     "text": [
      "[[28.676470588235293, '15'], [16.31756756756757, '13'], [12.380116959064328, '12'], [11.137546468401487, '02'], [10.684397163120567, '10'], [9.7119341563786, '04'], [9.692007797270955, '14'], [9.449744463373083, '17'], [9.190661478599221, '08'], [8.96474358974359, '11'], [8.804177545691905, '22'], [8.794258373205741, '05'], [8.749019607843136, '20'], [8.687258687258687, '21'], [7.948339483394834, '03'], [7.94299674267101, '18'], [7.713298791018998, '16'], [7.5647840531561465, '00'], [7.407801418439717, '01'], [7.163043478260869, '19'], [7.013274336283186, '07'], [6.782051282051282, '06'], [6.696793002915452, '23'], [6.653153153153153, '09']]\n"
     ]
    }
   ],
   "source": [
    "# Swapping list so number of comments is at index 0 and hour at index 1 so the list can be sorted according to the avg number of comments\n",
    "swap_avg_by_hour = []\n",
    "\n",
    "for i in range(len(avg_by_hour)):\n",
    "    swap_avg_by_hour.append([avg_by_hour[i][1], avg_by_hour[i][0]])\n",
    "\n",
    "sorted_swap = sorted(swap_avg_by_hour, reverse=True)\n",
    "print(sorted_swap)"
   ]
  },
  {
   "cell_type": "code",
   "execution_count": 12,
   "id": "b5f53cd1",
   "metadata": {},
   "outputs": [
    {
     "name": "stdout",
     "output_type": "stream",
     "text": [
      "15:00: 28.68 average comments per post\n",
      "13:00: 16.32 average comments per post\n",
      "12:00: 12.38 average comments per post\n",
      "02:00: 11.14 average comments per post\n",
      "10:00: 10.68 average comments per post\n"
     ]
    }
   ],
   "source": [
    "# Finding top 5 hours to make a post at\n",
    "for i in range(len(sorted_swap[:5])):\n",
    "    hour = dt.datetime.strptime(sorted_swap[i][1], '%H')\n",
    "    time = hour.strftime('%H:%M')\n",
    "    avg = round(sorted_swap[i][0], 2)\n",
    "    \n",
    "    print(f'{time}: {avg} average comments per post')"
   ]
  }
 ],
 "metadata": {
  "kernelspec": {
   "display_name": "Python 3",
   "language": "python",
   "name": "python3"
  },
  "language_info": {
   "codemirror_mode": {
    "name": "ipython",
    "version": 3
   },
   "file_extension": ".py",
   "mimetype": "text/x-python",
   "name": "python",
   "nbconvert_exporter": "python",
   "pygments_lexer": "ipython3",
   "version": "3.9.1"
  }
 },
 "nbformat": 4,
 "nbformat_minor": 5
}
